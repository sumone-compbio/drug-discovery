{
 "cells": [
  {
   "cell_type": "markdown",
   "id": "b9313abd-586e-4594-b00c-cc33df64ad22",
   "metadata": {},
   "source": [
    "#### Import libraries"
   ]
  },
  {
   "cell_type": "code",
   "execution_count": 1,
   "id": "bd85c932-aae6-419c-99d9-5402c132a826",
   "metadata": {},
   "outputs": [],
   "source": [
    "import numpy as np\n",
    "import pandas as pd\n",
    "from chembl_webresource_client.new_client import new_client\n",
    "from tqdm.auto import tqdm"
   ]
  },
  {
   "cell_type": "markdown",
   "id": "49f78fd5-8e60-4352-baeb-6e0e136fb053",
   "metadata": {},
   "source": [
    "#### Connect with Chembl api"
   ]
  },
  {
   "cell_type": "code",
   "execution_count": 2,
   "id": "ff52a1ae-0d74-4c4b-81dd-6f7726e06943",
   "metadata": {},
   "outputs": [],
   "source": [
    "targets_api = new_client.target\n",
    "bioactivities_api = new_client.activity"
   ]
  },
  {
   "cell_type": "markdown",
   "id": "ced8abd5-557e-4059-93ab-67b4000a641a",
   "metadata": {},
   "source": [
    "#### Import the proteins/targets of interest \n",
    "\n",
    "###### In this example I'm using the top targets of Breast Carcinoma (Disgenet: C0006142) to check the number of inhibitors associated with each via experimental validation IC50. You can make your list of targets based on your study."
   ]
  },
  {
   "cell_type": "code",
   "execution_count": 3,
   "id": "570f92b1-c0d7-4e6b-8d8b-4ef01c0c64e7",
   "metadata": {},
   "outputs": [],
   "source": [
    "brc_report = pd.read_excel('/home/sumit/Downloads/C0006142_disease_gda_summary.xlsx')"
   ]
  },
  {
   "cell_type": "code",
   "execution_count": 4,
   "id": "dc586c9a-85e0-4606-835f-7706e1181664",
   "metadata": {},
   "outputs": [
    {
     "data": {
      "text/html": [
       "<div>\n",
       "<style scoped>\n",
       "    .dataframe tbody tr th:only-of-type {\n",
       "        vertical-align: middle;\n",
       "    }\n",
       "\n",
       "    .dataframe tbody tr th {\n",
       "        vertical-align: top;\n",
       "    }\n",
       "\n",
       "    .dataframe thead th {\n",
       "        text-align: right;\n",
       "    }\n",
       "</style>\n",
       "<table border=\"1\" class=\"dataframe\">\n",
       "  <thead>\n",
       "    <tr style=\"text-align: right;\">\n",
       "      <th></th>\n",
       "      <th>Disease</th>\n",
       "      <th>Disease_id</th>\n",
       "      <th>Gene</th>\n",
       "      <th>Gene_id</th>\n",
       "      <th>UniProt</th>\n",
       "      <th>Gene_Full_Name</th>\n",
       "      <th>Protein_Class</th>\n",
       "      <th>N_diseases_g</th>\n",
       "      <th>DSI_g</th>\n",
       "      <th>DPI_g</th>\n",
       "      <th>pLI</th>\n",
       "      <th>Score_gda</th>\n",
       "      <th>EL_gda</th>\n",
       "      <th>EI_gda</th>\n",
       "      <th>N_PMIDs</th>\n",
       "      <th>N_SNPs_gda</th>\n",
       "      <th>First_Ref</th>\n",
       "      <th>Last_Ref</th>\n",
       "    </tr>\n",
       "  </thead>\n",
       "  <tbody>\n",
       "    <tr>\n",
       "      <th>0</th>\n",
       "      <td>Malignant neoplasm of breast</td>\n",
       "      <td>C0006142</td>\n",
       "      <td>ESR1</td>\n",
       "      <td>2099</td>\n",
       "      <td>P03372</td>\n",
       "      <td>estrogen receptor 1</td>\n",
       "      <td>Nuclear receptor</td>\n",
       "      <td>1101</td>\n",
       "      <td>0.324</td>\n",
       "      <td>0.962</td>\n",
       "      <td>9.992000e-01</td>\n",
       "      <td>1.0</td>\n",
       "      <td>NaN</td>\n",
       "      <td>0.967</td>\n",
       "      <td>3371</td>\n",
       "      <td>41</td>\n",
       "      <td>1983</td>\n",
       "      <td>2020</td>\n",
       "    </tr>\n",
       "    <tr>\n",
       "      <th>1</th>\n",
       "      <td>Malignant neoplasm of breast</td>\n",
       "      <td>C0006142</td>\n",
       "      <td>PIK3CA</td>\n",
       "      <td>5290</td>\n",
       "      <td>P42336</td>\n",
       "      <td>phosphatidylinositol-4,5-bisphosphate 3-kinase...</td>\n",
       "      <td>Kinase</td>\n",
       "      <td>1511</td>\n",
       "      <td>0.292</td>\n",
       "      <td>0.923</td>\n",
       "      <td>1.000000e+00</td>\n",
       "      <td>1.0</td>\n",
       "      <td>NaN</td>\n",
       "      <td>0.985</td>\n",
       "      <td>542</td>\n",
       "      <td>13</td>\n",
       "      <td>2001</td>\n",
       "      <td>2020</td>\n",
       "    </tr>\n",
       "    <tr>\n",
       "      <th>2</th>\n",
       "      <td>Malignant neoplasm of breast</td>\n",
       "      <td>C0006142</td>\n",
       "      <td>BARD1</td>\n",
       "      <td>580</td>\n",
       "      <td>Q99728</td>\n",
       "      <td>BRCA1 associated RING domain 1</td>\n",
       "      <td>NaN</td>\n",
       "      <td>75</td>\n",
       "      <td>0.597</td>\n",
       "      <td>0.538</td>\n",
       "      <td>1.377700e-24</td>\n",
       "      <td>1.0</td>\n",
       "      <td>limited</td>\n",
       "      <td>0.896</td>\n",
       "      <td>67</td>\n",
       "      <td>74</td>\n",
       "      <td>1996</td>\n",
       "      <td>2020</td>\n",
       "    </tr>\n",
       "    <tr>\n",
       "      <th>3</th>\n",
       "      <td>Malignant neoplasm of breast</td>\n",
       "      <td>C0006142</td>\n",
       "      <td>BRCA1</td>\n",
       "      <td>672</td>\n",
       "      <td>P38398</td>\n",
       "      <td>BRCA1 DNA repair associated</td>\n",
       "      <td>Enzyme</td>\n",
       "      <td>747</td>\n",
       "      <td>0.367</td>\n",
       "      <td>0.923</td>\n",
       "      <td>9.215700e-29</td>\n",
       "      <td>1.0</td>\n",
       "      <td>strong</td>\n",
       "      <td>0.956</td>\n",
       "      <td>2827</td>\n",
       "      <td>251</td>\n",
       "      <td>1992</td>\n",
       "      <td>2020</td>\n",
       "    </tr>\n",
       "    <tr>\n",
       "      <th>4</th>\n",
       "      <td>Malignant neoplasm of breast</td>\n",
       "      <td>C0006142</td>\n",
       "      <td>TP53</td>\n",
       "      <td>7157</td>\n",
       "      <td>P04637</td>\n",
       "      <td>tumor protein p53</td>\n",
       "      <td>Transcription factor</td>\n",
       "      <td>2494</td>\n",
       "      <td>0.236</td>\n",
       "      <td>0.962</td>\n",
       "      <td>5.323500e-01</td>\n",
       "      <td>1.0</td>\n",
       "      <td>NaN</td>\n",
       "      <td>0.973</td>\n",
       "      <td>1169</td>\n",
       "      <td>49</td>\n",
       "      <td>1982</td>\n",
       "      <td>2020</td>\n",
       "    </tr>\n",
       "  </tbody>\n",
       "</table>\n",
       "</div>"
      ],
      "text/plain": [
       "                        Disease Disease_id    Gene  Gene_id UniProt  \\\n",
       "0  Malignant neoplasm of breast   C0006142    ESR1     2099  P03372   \n",
       "1  Malignant neoplasm of breast   C0006142  PIK3CA     5290  P42336   \n",
       "2  Malignant neoplasm of breast   C0006142   BARD1      580  Q99728   \n",
       "3  Malignant neoplasm of breast   C0006142   BRCA1      672  P38398   \n",
       "4  Malignant neoplasm of breast   C0006142    TP53     7157  P04637   \n",
       "\n",
       "                                      Gene_Full_Name         Protein_Class  \\\n",
       "0                                estrogen receptor 1      Nuclear receptor   \n",
       "1  phosphatidylinositol-4,5-bisphosphate 3-kinase...                Kinase   \n",
       "2                     BRCA1 associated RING domain 1                   NaN   \n",
       "3                        BRCA1 DNA repair associated                Enzyme   \n",
       "4                                  tumor protein p53  Transcription factor   \n",
       "\n",
       "   N_diseases_g  DSI_g  DPI_g           pLI  Score_gda   EL_gda  EI_gda  \\\n",
       "0          1101  0.324  0.962  9.992000e-01        1.0      NaN   0.967   \n",
       "1          1511  0.292  0.923  1.000000e+00        1.0      NaN   0.985   \n",
       "2            75  0.597  0.538  1.377700e-24        1.0  limited   0.896   \n",
       "3           747  0.367  0.923  9.215700e-29        1.0   strong   0.956   \n",
       "4          2494  0.236  0.962  5.323500e-01        1.0      NaN   0.973   \n",
       "\n",
       "   N_PMIDs  N_SNPs_gda  First_Ref  Last_Ref  \n",
       "0     3371          41       1983      2020  \n",
       "1      542          13       2001      2020  \n",
       "2       67          74       1996      2020  \n",
       "3     2827         251       1992      2020  \n",
       "4     1169          49       1982      2020  "
      ]
     },
     "execution_count": 4,
     "metadata": {},
     "output_type": "execute_result"
    }
   ],
   "source": [
    "brc_report.head()"
   ]
  },
  {
   "cell_type": "markdown",
   "id": "89343966-fa7d-475a-9e66-ea7732140faa",
   "metadata": {},
   "source": [
    "#### We will use UniProt IDs of the targets to obtain their respective CHEMBL IDs.  "
   ]
  },
  {
   "cell_type": "code",
   "execution_count": 5,
   "id": "78722a48-f86a-416f-8c1a-d6d6a8b1cf9f",
   "metadata": {},
   "outputs": [],
   "source": [
    "uniprot_ids = list(brc_report['UniProt'])"
   ]
  },
  {
   "cell_type": "code",
   "execution_count": 6,
   "id": "1bc2aa01-6d56-40a3-a89c-ee69d40bea90",
   "metadata": {},
   "outputs": [],
   "source": [
    "inhibitors = []"
   ]
  },
  {
   "cell_type": "code",
   "execution_count": 7,
   "id": "d0d2b81c-bf8f-4e3f-8275-e3383fbe314a",
   "metadata": {},
   "outputs": [],
   "source": [
    "uniprot_ids_dict = {uniprot_id: None for uniprot_id in uniprot_ids}"
   ]
  },
  {
   "cell_type": "code",
   "execution_count": 8,
   "id": "b5d22fae-737f-4bed-b1e1-bd9363d98da5",
   "metadata": {},
   "outputs": [
    {
     "data": {
      "application/vnd.jupyter.widget-view+json": {
       "model_id": "146946b1fe064754b8240c35665454f8",
       "version_major": 2,
       "version_minor": 0
      },
      "text/plain": [
       "  0%|          | 0/49 [00:00<?, ?it/s]"
      ]
     },
     "metadata": {},
     "output_type": "display_data"
    }
   ],
   "source": [
    "for uniprot in tqdm(uniprot_ids):\n",
    "    targets = targets_api.get(target_components__accession=uniprot)\n",
    "    targets = pd.DataFrame.from_records(targets)\n",
    "    \n",
    "    # Check if the 'targets' DataFrame is empty\n",
    "    if targets.empty:\n",
    "        inhibitors.append('N/A')\n",
    "    else:\n",
    "        target = targets.iloc[0]\n",
    "        chembl_id = target.target_chembl_id\n",
    "        bioactivities = bioactivities_api.filter(\n",
    "            target_chembl_id=chembl_id, type=\"IC50\", relation=\"=\", \n",
    "            assay_type=\"B\", target_organism=\"Homo sapiens\"\n",
    "        ).only(\"activity_id\", \"assay_chembl_id\", \"assay_description\", \n",
    "               \"assay_type\", \"molecule_chembl_id\", \"type\", \"standard_units\", \n",
    "               \"relation\", \"standard_value\", \"target_chembl_id\", \"target_organism\",)\n",
    "        molecules = len(bioactivities)\n",
    "        if molecules == 0:             # If number of molecules is zero.\n",
    "            inhibitors.append('N/A')\n",
    "        else:\n",
    "            inhibitors.append(molecules)\n",
    "            if uniprot in uniprot_ids_dict:\n",
    "                uniprot_ids_dict[uniprot] = pd.DataFrame.from_records(bioactivities)"
   ]
  },
  {
   "cell_type": "code",
   "execution_count": 14,
   "id": "4063ad3b-2cd9-48fe-aa52-6059c099538b",
   "metadata": {},
   "outputs": [
    {
     "name": "stdout",
     "output_type": "stream",
     "text": [
      "UNIPROT: P03372, No. of Molecules: 3091\n",
      "UNIPROT: P42336, No. of Molecules: 5423\n",
      "UNIPROT: Q99728, No. of Molecules: NaN\n",
      "UNIPROT: P38398, No. of Molecules: 16\n",
      "UNIPROT: P04637, No. of Molecules: 28\n",
      "UNIPROT: P51587, No. of Molecules: NaN\n",
      "UNIPROT: Q03135, No. of Molecules: NaN\n",
      "UNIPROT: P12830, No. of Molecules: NaN\n",
      "UNIPROT: P04626, No. of Molecules: 2154\n",
      "UNIPROT: Q86YC2, No. of Molecules: NaN\n",
      "UNIPROT: Q9BX63, No. of Molecules: NaN\n",
      "UNIPROT: O96017, No. of Molecules: 650\n",
      "UNIPROT: P60484, No. of Molecules: 4\n",
      "UNIPROT: P31749, No. of Molecules: 3620\n",
      "UNIPROT: Q13315, No. of Molecules: 434\n",
      "UNIPROT: P01116, No. of Molecules: 635\n",
      "UNIPROT: P21802, No. of Molecules: 611\n",
      "UNIPROT: Q09472, No. of Molecules: 388\n",
      "UNIPROT: Q92698, No. of Molecules: NaN\n",
      "UNIPROT: P55317, No. of Molecules: NaN\n",
      "UNIPROT: P06400, No. of Molecules: 24\n",
      "UNIPROT: Q92731, No. of Molecules: 2059\n",
      "UNIPROT: P31751, No. of Molecules: 1034\n",
      "UNIPROT: P42224, No. of Molecules: 26\n",
      "UNIPROT: O15119, No. of Molecules: NaN\n",
      "UNIPROT: P15559, No. of Molecules: 209\n",
      "UNIPROT: Q9Y6Q9, No. of Molecules: NaN\n",
      "UNIPROT: P35228, No. of Molecules: 857\n",
      "UNIPROT: P09874, No. of Molecules: 2768\n",
      "UNIPROT: Q14790, No. of Molecules: 262\n",
      "UNIPROT: O15297, No. of Molecules: 9\n",
      "UNIPROT: Q06609, No. of Molecules: 59\n",
      "UNIPROT: P11487, No. of Molecules: NaN\n",
      "UNIPROT: P12272, No. of Molecules: NaN\n",
      "UNIPROT: P01112, No. of Molecules: 41\n",
      "UNIPROT: P23771, No. of Molecules: NaN\n",
      "UNIPROT: P10275, No. of Molecules: 1833\n",
      "UNIPROT: P02751, No. of Molecules: NaN\n",
      "UNIPROT: Q00987, No. of Molecules: 2560\n",
      "UNIPROT: P03956, No. of Molecules: 2142\n",
      "UNIPROT: P17948, No. of Molecules: 1015\n",
      "UNIPROT: P46527, No. of Molecules: NaN\n",
      "UNIPROT: P46531, No. of Molecules: 117\n",
      "UNIPROT: Q01973, No. of Molecules: NaN\n",
      "UNIPROT: P35232, No. of Molecules: NaN\n",
      "UNIPROT: P11362, No. of Molecules: 2082\n",
      "UNIPROT: Q969H0, No. of Molecules: NaN\n",
      "UNIPROT: P05019, No. of Molecules: NaN\n",
      "UNIPROT: Q92560, No. of Molecules: NaN\n"
     ]
    }
   ],
   "source": [
    "for key, value in uniprot_ids_dict.items():\n",
    "    if value is not None:\n",
    "        print(f\"UNIPROT: {key}, No. of Molecules: {len(value)}\")\n",
    "    else:\n",
    "        print(f\"UNIPROT: {key}, No. of Molecules: NaN\")"
   ]
  },
  {
   "cell_type": "code",
   "execution_count": 15,
   "id": "43863bc2-f945-4568-a5aa-83e8731e8de9",
   "metadata": {},
   "outputs": [],
   "source": [
    "excel_file_path = 'brc_targets_inhibitors.xlsx'"
   ]
  },
  {
   "cell_type": "code",
   "execution_count": 15,
   "id": "859dbda7-4294-4e85-9b80-2af9bb8c5fa3",
   "metadata": {},
   "outputs": [],
   "source": [
    "with pd.ExcelWriter(excel_file_path) as writer:\n",
    "    for sheet_name, df in uniprot_ids_dict.items():\n",
    "        if isinstance(df, pd.DataFrame): # save the dfs into excel sheets\n",
    "            df.to_excel(writer, sheet_name=sheet_name, index=False)"
   ]
  }
 ],
 "metadata": {
  "kernelspec": {
   "display_name": "Python 3 (ipykernel)",
   "language": "python",
   "name": "python3"
  },
  "language_info": {
   "codemirror_mode": {
    "name": "ipython",
    "version": 3
   },
   "file_extension": ".py",
   "mimetype": "text/x-python",
   "name": "python",
   "nbconvert_exporter": "python",
   "pygments_lexer": "ipython3",
   "version": "3.10.12"
  }
 },
 "nbformat": 4,
 "nbformat_minor": 5
}
